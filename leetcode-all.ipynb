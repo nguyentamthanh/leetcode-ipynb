{
 "cells": [
  {
   "cell_type": "code",
   "execution_count": 2,
   "metadata": {},
   "outputs": [
    {
     "name": "stdout",
     "output_type": "stream",
     "text": [
      "[(2, 1), (3, 0), (4, 2)]\n",
      "[1, 2]\n"
     ]
    }
   ],
   "source": [
    "# Tow Sum\n",
    "\n",
    "def twoSum(nums, target):\n",
    "    # two point\n",
    "    nums_index = [(v, index) for index, v in enumerate(nums)]\n",
    "    nums_index.sort()\n",
    "    print(nums_index)\n",
    "    begin, end = 0, len(nums) - 1\n",
    "    while begin < end:\n",
    "        curr = nums_index[begin][0] + nums_index[end][0]\n",
    "        if curr == target:\n",
    "            return [nums_index[begin][1], nums_index[end][1]]\n",
    "        elif curr < target:\n",
    "            begin += 1\n",
    "        else:\n",
    "            end -= 1\n",
    "\n",
    "\n",
    "print(twoSum([3, 2, 4], 6))\n"
   ]
  },
  {
   "cell_type": "code",
   "execution_count": 1,
   "metadata": {},
   "outputs": [
    {
     "name": "stdout",
     "output_type": "stream",
     "text": [
      "<class 'list'>\n",
      "3\n",
      "4\n",
      "5\n",
      "6\n",
      "7\n",
      "8\n",
      "None\n"
     ]
    }
   ],
   "source": [
    "# Non decreasing Arrays\n",
    "def checkPossibility(n):\n",
    "    print(type(n))\n",
    "    for i in n:\n",
    "        print(i)\n",
    "\n",
    "\n",
    "print(checkPossibility([3, 4, 5, 6, 7, 8]))\n"
   ]
  },
  {
   "cell_type": "code",
   "execution_count": 4,
   "metadata": {},
   "outputs": [
    {
     "name": "stdout",
     "output_type": "stream",
     "text": [
      "tong 2 so 7\n"
     ]
    }
   ],
   "source": [
    "def sum(a, b):\n",
    "    return a+b\n",
    "\n",
    "\n",
    "print(\"tong 2 so\",sum(3, 4))\n"
   ]
  },
  {
   "cell_type": "code",
   "execution_count": null,
   "metadata": {},
   "outputs": [],
   "source": []
  }
 ],
 "metadata": {
  "kernelspec": {
   "display_name": "Python 3.10.5 64-bit",
   "language": "python",
   "name": "python3"
  },
  "language_info": {
   "codemirror_mode": {
    "name": "ipython",
    "version": 3
   },
   "file_extension": ".py",
   "mimetype": "text/x-python",
   "name": "python",
   "nbconvert_exporter": "python",
   "pygments_lexer": "ipython3",
   "version": "3.10.5"
  },
  "orig_nbformat": 4,
  "vscode": {
   "interpreter": {
    "hash": "6118f8b0c334f391d84970982c520357315f884dbe29af70b7d2e69871c6f541"
   }
  }
 },
 "nbformat": 4,
 "nbformat_minor": 2
}
