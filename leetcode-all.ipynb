{
 "cells": [
  {
   "cell_type": "code",
   "execution_count": 1,
   "metadata": {},
   "outputs": [
    {
     "name": "stdout",
     "output_type": "stream",
     "text": [
      "[(2, 1), (3, 0), (4, 2)]\n",
      "[1, 2]\n"
     ]
    }
   ],
   "source": [
    "# Tow Sum\n",
    "def twoSum(nums, target):\n",
    "    # two point\n",
    "    nums_index = [(v, index) for index, v in enumerate(nums)]\n",
    "    nums_index.sort()\n",
    "    print(nums_index)\n",
    "    begin, end = 0, len(nums) - 1\n",
    "    while begin < end:\n",
    "        curr = nums_index[begin][0] + nums_index[end][0]\n",
    "        if curr == target:\n",
    "            return [nums_index[begin][1], nums_index[end][1]]\n",
    "        elif curr < target:\n",
    "            begin += 1\n",
    "        else:\n",
    "            end -= 1\n",
    "\n",
    "\n",
    "print(twoSum([3, 2, 4], 6))\n"
   ]
  },
  {
   "cell_type": "code",
   "execution_count": 2,
   "metadata": {},
   "outputs": [
    {
     "name": "stdout",
     "output_type": "stream",
     "text": [
      "<class 'list'>\n",
      "3\n",
      "4\n",
      "5\n",
      "6\n",
      "7\n",
      "8\n",
      "None\n"
     ]
    }
   ],
   "source": [
    "# Non decreasing Arrays\n",
    "def checkPossibility(n):\n",
    "    print(type(n))\n",
    "    for i in n:\n",
    "        print(i)\n",
    "print(checkPossibility([3, 4, 5, 6, 7, 8]))\n"
   ]
  },
  {
   "cell_type": "code",
   "execution_count": 3,
   "metadata": {},
   "outputs": [
    {
     "name": "stdout",
     "output_type": "stream",
     "text": [
      "12121\n",
      "True\n"
     ]
    }
   ],
   "source": [
    "# Palindrome Number\n",
    "def isPalindrome( x: int) -> bool:\n",
    "        x = str(x)\n",
    "        print(x[::-1])\n",
    "        if (x == x[::-1]):\n",
    "            \n",
    "            return True\n",
    "        return False        \n",
    "print(isPalindrome(12121))   \n"
   ]
  },
  {
   "cell_type": "code",
   "execution_count": 4,
   "metadata": {},
   "outputs": [
    {
     "name": "stdout",
     "output_type": "stream",
     "text": [
      "helo\n"
     ]
    }
   ],
   "source": [
    "print(\"helo\")"
   ]
  },
  {
   "cell_type": "code",
   "execution_count": 1,
   "metadata": {},
   "outputs": [
    {
     "name": "stdout",
     "output_type": "stream",
     "text": [
      "-1\n",
      "19\n"
     ]
    }
   ],
   "source": [
    "#\n",
    "def romanToInt(s: str) -> int:\n",
    "    ans = 0\n",
    "    roman = {'I': 1, 'V': 5, 'X': 10, 'L': 50,\n",
    "             'C': 100, 'D': 500, 'M': 1000}\n",
    "    for a, b in zip(s, s[1:]):\n",
    "        if roman[a] < roman[b]:\n",
    "            ans = -roman[a]\n",
    "            print(ans)\n",
    "        else:\n",
    "            ans += roman[a]\n",
    "    return ans+roman[s[-1]]\n",
    "\n",
    "print(romanToInt(\"IXX\"))"
   ]
  },
  {
   "cell_type": "code",
   "execution_count": null,
   "metadata": {},
   "outputs": [],
   "source": [
    "# tu lam twosum"
   ]
  },
  {
   "cell_type": "code",
   "execution_count": 2,
   "metadata": {},
   "outputs": [],
   "source": [
    "# color flowers in python \n",
    "import turtle\n",
    "\n",
    "from pyparsing import col\n",
    "t=turtle.Turtle()\n",
    "s=turtle.Screen()\n",
    "s.bgcolor('black')\n",
    "t.speed(0)\n",
    "col=(\"yellow\",\"red\",\"pink\",\"cyan\",\"light green\",\"blue\")\n",
    "\n",
    "for i in range(150):\n",
    "    t.pencolor(col[i%6])\n",
    "    t.circle(190-i/2,90)\n",
    "    t.lt(90)\n",
    "    t.circle(190-i/3,90)\n",
    "    t.lt(60)\n",
    "s.exitonclick()"
   ]
  },
  {
   "cell_type": "code",
   "execution_count": 8,
   "metadata": {},
   "outputs": [
    {
     "name": "stdout",
     "output_type": "stream",
     "text": [
      "['flower', 'flow', 'flight']\n",
      "0\n",
      "1\n",
      "2\n",
      "3\n",
      "4\n",
      "5\n"
     ]
    }
   ],
   "source": [
    "#  Longest Common Prefix\n",
    "\n",
    "\n",
    "\n",
    "strs = [\"flower\",\"flow\",\"flight\"]\n",
    "print(strs)\n",
    "for i in range(len(strs[0])):\n",
    "   for j in range(1, len(strs)):\n",
    "        if i == len(strs[j]) or strs[j][i] != strs[0][i]:\n",
    "          return strs[0][:i]"
   ]
  },
  {
   "cell_type": "code",
   "execution_count": null,
   "metadata": {},
   "outputs": [],
   "source": []
  }
 ],
 "metadata": {
  "kernelspec": {
   "display_name": "Python 3.10.5 64-bit",
   "language": "python",
   "name": "python3"
  },
  "language_info": {
   "codemirror_mode": {
    "name": "ipython",
    "version": 3
   },
   "file_extension": ".py",
   "mimetype": "text/x-python",
   "name": "python",
   "nbconvert_exporter": "python",
   "pygments_lexer": "ipython3",
   "version": "3.10.5"
  },
  "orig_nbformat": 4,
  "vscode": {
   "interpreter": {
    "hash": "6118f8b0c334f391d84970982c520357315f884dbe29af70b7d2e69871c6f541"
   }
  }
 },
 "nbformat": 4,
 "nbformat_minor": 2
}
